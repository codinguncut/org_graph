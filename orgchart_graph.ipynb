{
 "cells": [
  {
   "cell_type": "markdown",
   "metadata": {},
   "source": [
    "## Graph Analysis of Orgchart Data\n",
    "\n",
    "Simple example of an analysis over reporting data for employee level and span of control."
   ]
  },
  {
   "cell_type": "code",
   "execution_count": 104,
   "metadata": {
    "collapsed": false
   },
   "outputs": [],
   "source": [
    "%matplotlib inline\n",
    "\n",
    "import random\n",
    "from collections import namedtuple, Counter\n",
    "\n",
    "import networkx as nx\n",
    "import matplotlib.pyplot as plt\n",
    "\n",
    "GraphData = namedtuple('GraphData', ['nodes', 'edges'])"
   ]
  },
  {
   "cell_type": "markdown",
   "metadata": {},
   "source": [
    "### Creating the Graph\n",
    "\n",
    "For simplicity we generate a random (direct acyclic) graph that roughly mirrors a real reporting structure.\n",
    "To instantiate such a graph from a given data only node data has to be provided, in many cases likely with additional \"payload\" data (name, etc.)"
   ]
  },
  {
   "cell_type": "code",
   "execution_count": 216,
   "metadata": {
    "collapsed": false
   },
   "outputs": [
    {
     "name": "stdout",
     "output_type": "stream",
     "text": [
      "nodes in graph: 22677\n"
     ]
    }
   ],
   "source": [
    "def generate_dag(last_id=0, parent_node=0, max_levels=5, span=(5, 10), leaf_prob=0.05):\n",
    "    \"\"\" \n",
    "    generate demo data of a directed acyclic graph\n",
    "    \n",
    "    parameters:\n",
    "    last_id - highest node id used so far\n",
    "    parent_node - current parent id\n",
    "    max_levels - maximum graph depth\n",
    "    span - (min, max) number of children\n",
    "    leaf_prob - probability that a given node is a leaf node without children\n",
    "    \"\"\"\n",
    "    if max_levels <= 0 or random.random() < leaf_prob:\n",
    "        return GraphData(nodes=set(), edges=set())\n",
    "    \n",
    "    num_children = random.randint(*span)\n",
    "    nodes = {last_id + 1 + r for r in range(num_children)}\n",
    "    edges = {(parent_node, c) for c in nodes}\n",
    "    for child in nodes:\n",
    "        subgraph = generate_dag(last_id=max(nodes), parent_node=child, max_levels=max_levels-1)\n",
    "        nodes = nodes | subgraph.nodes\n",
    "        edges = edges | subgraph.edges\n",
    "    \n",
    "    return GraphData(nodes=nodes, edges=edges)\n",
    "\n",
    "\n",
    "def create_graph():\n",
    "    dag_data = generate_dag()\n",
    "\n",
    "    G = nx.DiGraph(list(dag_data.edges))\n",
    "\n",
    "    return G\n",
    "\n",
    "random.seed(23)\n",
    "G = create_graph()\n",
    "\n",
    "print('nodes in graph:', len(G))"
   ]
  },
  {
   "cell_type": "markdown",
   "metadata": {},
   "source": [
    "### Rendering the Graph\n",
    "\n",
    "The below function is reasonably useful for small graphs, but does not work well for bigger graphs as the above.\n",
    "For large-scale graph visualization a library such as gephi would be better suited."
   ]
  },
  {
   "cell_type": "code",
   "execution_count": 217,
   "metadata": {
    "collapsed": false
   },
   "outputs": [],
   "source": [
    "#nx.draw(G)\n",
    "#plt.show()"
   ]
  },
  {
   "cell_type": "markdown",
   "metadata": {},
   "source": [
    "### Calculate Graph Stats\n",
    "\n",
    "For each node calculate span-of-control (out_degree), level from the \"bottom\" and level from the \"top\"."
   ]
  },
  {
   "cell_type": "code",
   "execution_count": 218,
   "metadata": {
    "collapsed": false
   },
   "outputs": [
    {
     "data": {
      "text/plain": [
       "[(0, 19646), (1, 2605), (2, 368), (3, 50), (4, 7), (5, 1)]"
      ]
     },
     "execution_count": 218,
     "metadata": {},
     "output_type": "execute_result"
    }
   ],
   "source": [
    "from networkx.algorithms.dag import dag_longest_path_length, descendants\n",
    "from networkx.algorithms.shortest_paths.generic import shortest_path_length\n",
    "import numpy as np\n",
    "import pandas as pd\n",
    "COLUMNS = ['span', 'level_bottom', 'level_top']\n",
    "SpanLevel = namedtuple('SpanLevel', COLUMNS)\n",
    "\n",
    "res = []\n",
    "for node in G:\n",
    "    span = G.out_degree(node)\n",
    "    level_top = shortest_path_length(G, 0, node)\n",
    "    \n",
    "    desc = descendants(G, node).union({node})\n",
    "    subgraph = G.subgraph(desc)\n",
    "    level_bottom = max(0, dag_longest_path_length(subgraph))\n",
    "    \n",
    "    res.append(SpanLevel(span=span, level_bottom=level_bottom, level_top=level_top))\n",
    "    \n",
    "freq_levels_bottom = Counter(r[1] for r in res)\n",
    "freq_levels_bottom.most_common()"
   ]
  },
  {
   "cell_type": "code",
   "execution_count": 219,
   "metadata": {
    "collapsed": false
   },
   "outputs": [
    {
     "data": {
      "text/html": [
       "<div>\n",
       "<table border=\"1\" class=\"dataframe\">\n",
       "  <thead>\n",
       "    <tr style=\"text-align: right;\">\n",
       "      <th></th>\n",
       "      <th>span</th>\n",
       "      <th>level_bottom</th>\n",
       "      <th>level_top</th>\n",
       "    </tr>\n",
       "  </thead>\n",
       "  <tbody>\n",
       "    <tr>\n",
       "      <th>count</th>\n",
       "      <td>22677.000000</td>\n",
       "      <td>22677.000000</td>\n",
       "      <td>22677.000000</td>\n",
       "    </tr>\n",
       "    <tr>\n",
       "      <th>mean</th>\n",
       "      <td>0.999956</td>\n",
       "      <td>0.155400</td>\n",
       "      <td>4.836530</td>\n",
       "    </tr>\n",
       "    <tr>\n",
       "      <th>std</th>\n",
       "      <td>2.620941</td>\n",
       "      <td>0.426063</td>\n",
       "      <td>0.435312</td>\n",
       "    </tr>\n",
       "    <tr>\n",
       "      <th>min</th>\n",
       "      <td>0.000000</td>\n",
       "      <td>0.000000</td>\n",
       "      <td>0.000000</td>\n",
       "    </tr>\n",
       "    <tr>\n",
       "      <th>25%</th>\n",
       "      <td>0.000000</td>\n",
       "      <td>0.000000</td>\n",
       "      <td>5.000000</td>\n",
       "    </tr>\n",
       "    <tr>\n",
       "      <th>50%</th>\n",
       "      <td>0.000000</td>\n",
       "      <td>0.000000</td>\n",
       "      <td>5.000000</td>\n",
       "    </tr>\n",
       "    <tr>\n",
       "      <th>75%</th>\n",
       "      <td>0.000000</td>\n",
       "      <td>0.000000</td>\n",
       "      <td>5.000000</td>\n",
       "    </tr>\n",
       "    <tr>\n",
       "      <th>max</th>\n",
       "      <td>10.000000</td>\n",
       "      <td>5.000000</td>\n",
       "      <td>5.000000</td>\n",
       "    </tr>\n",
       "  </tbody>\n",
       "</table>\n",
       "</div>"
      ],
      "text/plain": [
       "               span  level_bottom     level_top\n",
       "count  22677.000000  22677.000000  22677.000000\n",
       "mean       0.999956      0.155400      4.836530\n",
       "std        2.620941      0.426063      0.435312\n",
       "min        0.000000      0.000000      0.000000\n",
       "25%        0.000000      0.000000      5.000000\n",
       "50%        0.000000      0.000000      5.000000\n",
       "75%        0.000000      0.000000      5.000000\n",
       "max       10.000000      5.000000      5.000000"
      ]
     },
     "execution_count": 219,
     "metadata": {},
     "output_type": "execute_result"
    }
   ],
   "source": [
    "df = pd.DataFrame(data=res, columns=COLUMNS)\n",
    "df.describe()"
   ]
  },
  {
   "cell_type": "markdown",
   "metadata": {},
   "source": [
    "It is noteworthy that the vast majority of employees has level \"0\". In this context it may make sense to not show any \"leaf\" non-managing employees to prevent this very large group from dominating the below analysis."
   ]
  },
  {
   "cell_type": "code",
   "execution_count": 220,
   "metadata": {
    "collapsed": false
   },
   "outputs": [
    {
     "data": {
      "text/html": [
       "<div>\n",
       "<table border=\"1\" class=\"dataframe\">\n",
       "  <thead>\n",
       "    <tr style=\"text-align: right;\">\n",
       "      <th></th>\n",
       "      <th>span</th>\n",
       "      <th>level_bottom</th>\n",
       "      <th>level_top</th>\n",
       "    </tr>\n",
       "  </thead>\n",
       "  <tbody>\n",
       "    <tr>\n",
       "      <th>count</th>\n",
       "      <td>3031.000000</td>\n",
       "      <td>3031.000000</td>\n",
       "      <td>3031.000000</td>\n",
       "    </tr>\n",
       "    <tr>\n",
       "      <th>mean</th>\n",
       "      <td>7.481359</td>\n",
       "      <td>1.162653</td>\n",
       "      <td>3.837347</td>\n",
       "    </tr>\n",
       "    <tr>\n",
       "      <th>std</th>\n",
       "      <td>1.703878</td>\n",
       "      <td>0.432512</td>\n",
       "      <td>0.432512</td>\n",
       "    </tr>\n",
       "    <tr>\n",
       "      <th>min</th>\n",
       "      <td>5.000000</td>\n",
       "      <td>1.000000</td>\n",
       "      <td>0.000000</td>\n",
       "    </tr>\n",
       "    <tr>\n",
       "      <th>10%</th>\n",
       "      <td>5.000000</td>\n",
       "      <td>1.000000</td>\n",
       "      <td>3.000000</td>\n",
       "    </tr>\n",
       "    <tr>\n",
       "      <th>20%</th>\n",
       "      <td>6.000000</td>\n",
       "      <td>1.000000</td>\n",
       "      <td>4.000000</td>\n",
       "    </tr>\n",
       "    <tr>\n",
       "      <th>30%</th>\n",
       "      <td>6.000000</td>\n",
       "      <td>1.000000</td>\n",
       "      <td>4.000000</td>\n",
       "    </tr>\n",
       "    <tr>\n",
       "      <th>40%</th>\n",
       "      <td>7.000000</td>\n",
       "      <td>1.000000</td>\n",
       "      <td>4.000000</td>\n",
       "    </tr>\n",
       "    <tr>\n",
       "      <th>50%</th>\n",
       "      <td>7.000000</td>\n",
       "      <td>1.000000</td>\n",
       "      <td>4.000000</td>\n",
       "    </tr>\n",
       "    <tr>\n",
       "      <th>60%</th>\n",
       "      <td>8.000000</td>\n",
       "      <td>1.000000</td>\n",
       "      <td>4.000000</td>\n",
       "    </tr>\n",
       "    <tr>\n",
       "      <th>70%</th>\n",
       "      <td>9.000000</td>\n",
       "      <td>1.000000</td>\n",
       "      <td>4.000000</td>\n",
       "    </tr>\n",
       "    <tr>\n",
       "      <th>80%</th>\n",
       "      <td>9.000000</td>\n",
       "      <td>1.000000</td>\n",
       "      <td>4.000000</td>\n",
       "    </tr>\n",
       "    <tr>\n",
       "      <th>90%</th>\n",
       "      <td>10.000000</td>\n",
       "      <td>2.000000</td>\n",
       "      <td>4.000000</td>\n",
       "    </tr>\n",
       "    <tr>\n",
       "      <th>max</th>\n",
       "      <td>10.000000</td>\n",
       "      <td>5.000000</td>\n",
       "      <td>4.000000</td>\n",
       "    </tr>\n",
       "  </tbody>\n",
       "</table>\n",
       "</div>"
      ],
      "text/plain": [
       "              span  level_bottom    level_top\n",
       "count  3031.000000   3031.000000  3031.000000\n",
       "mean      7.481359      1.162653     3.837347\n",
       "std       1.703878      0.432512     0.432512\n",
       "min       5.000000      1.000000     0.000000\n",
       "10%       5.000000      1.000000     3.000000\n",
       "20%       6.000000      1.000000     4.000000\n",
       "30%       6.000000      1.000000     4.000000\n",
       "40%       7.000000      1.000000     4.000000\n",
       "50%       7.000000      1.000000     4.000000\n",
       "60%       8.000000      1.000000     4.000000\n",
       "70%       9.000000      1.000000     4.000000\n",
       "80%       9.000000      1.000000     4.000000\n",
       "90%      10.000000      2.000000     4.000000\n",
       "max      10.000000      5.000000     4.000000"
      ]
     },
     "execution_count": 220,
     "metadata": {},
     "output_type": "execute_result"
    }
   ],
   "source": [
    "res = [r for r in res if r.level_bottom > 0]\n",
    "df = pd.DataFrame(data=res, columns=COLUMNS)\n",
    "df.describe(percentiles=[0.1, 0.2, 0.3, 0.4, 0.5, 0.6, 0.7, 0.8, 0.9])"
   ]
  },
  {
   "cell_type": "markdown",
   "metadata": {},
   "source": [
    "### Visualizing the Distribution\n",
    "\n",
    "For the visualization we have chosen a hexplot that can display the position of a group as well as its frequency/intensity. Since both dimensions of span and level are discrete and have very few possible values, a normal scatter would hide all of the frequency information.\n",
    "\n",
    "Another alternative would be a bubble chart as show below and commented out."
   ]
  },
  {
   "cell_type": "code",
   "execution_count": 221,
   "metadata": {
    "collapsed": false
   },
   "outputs": [
    {
     "data": {
      "image/png": "[encoded data removed]",
      "text/plain": [
       "<matplotlib.figure.Figure at 0x7f6feab0f908>"
      ]
     },
     "metadata": {},
     "output_type": "display_data"
    }
   ],
   "source": [
    "spans, levels = zip(*sls)\n",
    "occurrences = Counter(tuple(r[:2]) for r in res)\n",
    "\n",
    "plt.scatter(spans, levels, s=[occurrences[x] for x in sls])\n",
    "plt.show()"
   ]
  },
  {
   "cell_type": "code",
   "execution_count": 223,
   "metadata": {
    "collapsed": false
   },
   "outputs": [
    {
     "data": {
      "image/png": "[encoded data removed]",
      "text/plain": [
       "<matplotlib.figure.Figure at 0x7f6feb6daf60>"
      ]
     },
     "metadata": {},
     "output_type": "display_data"
    }
   ],
   "source": [
    "import seaborn as sns\n",
    "sns.set_style('dark')\n",
    "\n",
    "\n",
    "g = sns.jointplot(np.array(spans), np.array(levels), kind=\"hex\", color='r')\n",
    "g.set_axis_labels('span of control', 'level from \"bottom\"', fontsize=11)\n",
    "plt.show()"
   ]
  },
  {
   "cell_type": "code",
   "execution_count": null,
   "metadata": {
    "collapsed": true
   },
   "outputs": [],
   "source": []
  }
 ],
 "metadata": {
  "kernelspec": {
   "display_name": "Python 3",
   "language": "python",
   "name": "python3"
  },
  "language_info": {
   "codemirror_mode": {
    "name": "ipython",
    "version": 3
   },
   "file_extension": ".py",
   "mimetype": "text/x-python",
   "name": "python",
   "nbconvert_exporter": "python",
   "pygments_lexer": "ipython3",
   "version": "3.5.2"
  }
 },
 "nbformat": 4,
 "nbformat_minor": 2
}
